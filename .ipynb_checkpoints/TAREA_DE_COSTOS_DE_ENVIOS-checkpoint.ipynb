{
 "cells": [
  {
   "cell_type": "code",
   "execution_count": 1,
   "metadata": {},
   "outputs": [
    {
     "name": "stdout",
     "output_type": "stream",
     "text": [
      "Hay 26 articulos con costo de envio 90 y existen 74 articulos con costo de 150\n"
     ]
    }
   ],
   "source": [
    "precios=[3, 148, 74, 71, 4, 83, 95, 20, 61, 10, 69, 67, 23, 164, 97, 67, 144, 200, 38, 90, 200, 162, 6, 180, 65, 71, 90, 182, 16, 132, 182, 108, 90, 196, 48, 2, 158, 88, 39, 39, 54, 80, 89, 3, 90, 170, 88, 71, 142, 45, 81, 194, 36, 39, 30, 33, 38, 44, 134, 43, 12, 52, 170, 162, 192, 83, 18, 176, 120, 28, 86, 188, 51, 11, 96, 13, 198, 34, 66, 23, 200, 62, 194, 91, 51, 26, 152, 186, 86, 38, 46, 66, 83, 66, 40, 2, 20, 12, 91, 53]\n",
    "\n",
    "\n",
    "def precio_con_iva(precio):\n",
    "    return round(precio*1.16,2)\n",
    "def costo_de_envio(precio):\n",
    "    if precio>150:\n",
    "        return 90\n",
    "    else:\n",
    "        return 150\n",
    "precio_con_iva=list(map(precio_con_iva,precios))\n",
    "costos_envio=list(map(costo_de_envio,precio_con_iva))\n",
    "envio_de_90=len(list(filter(lambda x: x == 90,costos_envio)))\n",
    "envio_de_150=len(list(filter(lambda x: x == 150,costos_envio)))\n",
    "print(f'Hay {envio_de_90} articulos con costo de envio 90 y existen {envio_de_150} articulos con costo de 150')"
   ]
  },
  {
   "cell_type": "code",
   "execution_count": null,
   "metadata": {},
   "outputs": [],
   "source": []
  }
 ],
 "metadata": {
  "kernelspec": {
   "display_name": "Python 3",
   "language": "python",
   "name": "python3"
  },
  "language_info": {
   "codemirror_mode": {
    "name": "ipython",
    "version": 3
   },
   "file_extension": ".py",
   "mimetype": "text/x-python",
   "name": "python",
   "nbconvert_exporter": "python",
   "pygments_lexer": "ipython3",
   "version": "3.8.5"
  }
 },
 "nbformat": 4,
 "nbformat_minor": 4
}
